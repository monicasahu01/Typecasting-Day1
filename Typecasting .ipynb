{
 "cells": [
  {
   "cell_type": "code",
   "execution_count": 33,
   "id": "b280ded9-499b-4d44-8221-90c4cc32deea",
   "metadata": {},
   "outputs": [
    {
     "data": {
      "text/plain": [
       "False"
      ]
     },
     "execution_count": 33,
     "metadata": {},
     "output_type": "execute_result"
    }
   ],
   "source": [
    "# Typecasting - Method of converting the python variable data type into a certain data type in order to perform required operation by user'''     \n",
    "bool(0)                  "
   ]
  },
  {
   "cell_type": "code",
   "execution_count": 2,
   "id": "9154c043-2c37-4b14-a38c-18f9e1f52762",
   "metadata": {},
   "outputs": [
    {
     "data": {
      "text/plain": [
       "True"
      ]
     },
     "execution_count": 2,
     "metadata": {},
     "output_type": "execute_result"
    }
   ],
   "source": [
    "bool(1)"
   ]
  },
  {
   "cell_type": "code",
   "execution_count": 7,
   "id": "42b471f9-4a07-4c5d-9448-94c5716cc3a3",
   "metadata": {},
   "outputs": [],
   "source": [
    "a=1\n",
    "if type(bool(a))==True:\n",
    "    print(\"True\")"
   ]
  },
  {
   "cell_type": "code",
   "execution_count": 9,
   "id": "1bc42b4a-ff61-41e6-8989-a988cc32d7a1",
   "metadata": {},
   "outputs": [
    {
     "data": {
      "text/plain": [
       "False"
      ]
     },
     "execution_count": 9,
     "metadata": {},
     "output_type": "execute_result"
    }
   ],
   "source": [
    "type(bool(a)) == True"
   ]
  },
  {
   "cell_type": "code",
   "execution_count": 13,
   "id": "8efdd1ca-54e5-4290-905e-93b3da288b15",
   "metadata": {},
   "outputs": [
    {
     "name": "stdout",
     "output_type": "stream",
     "text": [
      "True\n"
     ]
    }
   ],
   "source": [
    "a=1\n",
    "if bool(a) == True:\n",
    "    print(\"True\")"
   ]
  },
  {
   "cell_type": "code",
   "execution_count": 14,
   "id": "9c4e643e-08a5-489b-86b8-6807aef444b9",
   "metadata": {},
   "outputs": [
    {
     "data": {
      "text/plain": [
       "'23'"
      ]
     },
     "execution_count": 14,
     "metadata": {},
     "output_type": "execute_result"
    }
   ],
   "source": [
    "#can convert number in string\n",
    "str(23)"
   ]
  },
  {
   "cell_type": "code",
   "execution_count": 15,
   "id": "be87aa66-68ee-4df4-9df5-8c86c9e87615",
   "metadata": {},
   "outputs": [
    {
     "data": {
      "text/plain": [
       "0"
      ]
     },
     "execution_count": 15,
     "metadata": {},
     "output_type": "execute_result"
    }
   ],
   "source": [
    "0"
   ]
  },
  {
   "cell_type": "code",
   "execution_count": 16,
   "id": "770ef36e-5f23-4861-94c5-55a35db74e47",
   "metadata": {},
   "outputs": [
    {
     "data": {
      "text/plain": [
       "1"
      ]
     },
     "execution_count": 16,
     "metadata": {},
     "output_type": "execute_result"
    }
   ],
   "source": [
    "1"
   ]
  },
  {
   "cell_type": "code",
   "execution_count": 17,
   "id": "b63422d1-2d01-4eb2-b272-b74aa12611f3",
   "metadata": {},
   "outputs": [
    {
     "data": {
      "text/plain": [
       "23"
      ]
     },
     "execution_count": 17,
     "metadata": {},
     "output_type": "execute_result"
    }
   ],
   "source": [
    "int(23)"
   ]
  },
  {
   "cell_type": "code",
   "execution_count": 18,
   "id": "2fddd403-3749-42a9-92af-93ac664ca846",
   "metadata": {},
   "outputs": [
    {
     "data": {
      "text/plain": [
       "int"
      ]
     },
     "execution_count": 18,
     "metadata": {},
     "output_type": "execute_result"
    }
   ],
   "source": [
    "type(int(23))"
   ]
  },
  {
   "cell_type": "markdown",
   "id": "ff9ab560-f746-49ae-af1b-ccc6574c08a2",
   "metadata": {},
   "source": [
    "### Dynamic Typingcasting"
   ]
  },
  {
   "cell_type": "code",
   "execution_count": 20,
   "id": "87f338d7-162e-435e-a441-7e2cd9ee22ea",
   "metadata": {},
   "outputs": [],
   "source": [
    "a = 12                             # dynamis typecasting is the type of the variable is determined only during the runtime\n",
    "str1 = 'krish'\n",
    "a = 'var'"
   ]
  },
  {
   "cell_type": "code",
   "execution_count": 21,
   "id": "ae0a30de-843d-48ca-b01e-c958085cf02b",
   "metadata": {},
   "outputs": [
    {
     "name": "stdout",
     "output_type": "stream",
     "text": [
      "<class 'str'>\n"
     ]
    }
   ],
   "source": [
    "print(type(a))"
   ]
  },
  {
   "cell_type": "code",
   "execution_count": 22,
   "id": "976ed790-69ee-4132-b77c-287c4fee9dc2",
   "metadata": {},
   "outputs": [
    {
     "data": {
      "text/plain": [
       "1"
      ]
     },
     "execution_count": 22,
     "metadata": {},
     "output_type": "execute_result"
    }
   ],
   "source": [
    "int(1.54)"
   ]
  },
  {
   "cell_type": "code",
   "execution_count": 23,
   "id": "8c908473-dea6-48b1-8eaa-738f751843bc",
   "metadata": {},
   "outputs": [
    {
     "ename": "TypeError",
     "evalue": "unsupported operand type(s) for +: 'int' and 'str'",
     "output_type": "error",
     "traceback": [
      "\u001b[0;31m---------------------------------------------------------------------------\u001b[0m",
      "\u001b[0;31mTypeError\u001b[0m                                 Traceback (most recent call last)",
      "Cell \u001b[0;32mIn[23], line 2\u001b[0m\n\u001b[1;32m      1\u001b[0m \u001b[38;5;66;03m#concatenation between two diferent data type\u001b[39;00m\n\u001b[0;32m----> 2\u001b[0m \u001b[38;5;28;43mint\u001b[39;49m\u001b[43m(\u001b[49m\u001b[38;5;124;43m'\u001b[39;49m\u001b[38;5;124;43m1\u001b[39;49m\u001b[38;5;124;43m'\u001b[39;49m\u001b[43m)\u001b[49m\u001b[43m \u001b[49m\u001b[38;5;241;43m+\u001b[39;49m\u001b[38;5;124;43m\"\u001b[39;49m\u001b[38;5;124;43m1\u001b[39;49m\u001b[38;5;124;43m\"\u001b[39;49m\n",
      "\u001b[0;31mTypeError\u001b[0m: unsupported operand type(s) for +: 'int' and 'str'"
     ]
    }
   ],
   "source": [
    "#concatenation between two diferent data type\n",
    "int('1') +\"1\""
   ]
  },
  {
   "cell_type": "code",
   "execution_count": 24,
   "id": "ab0f4de9-f463-4fbe-b570-4b4602c50252",
   "metadata": {},
   "outputs": [
    {
     "data": {
      "text/plain": [
       "'1111111111111111111111111111111111111111111111111111111111111111111111111111111111111111111111111111'"
      ]
     },
     "execution_count": 24,
     "metadata": {},
     "output_type": "execute_result"
    }
   ],
   "source": [
    "'1'*100"
   ]
  },
  {
   "cell_type": "code",
   "execution_count": 25,
   "id": "08ee8f24-c21b-48f9-8acf-a47826de5afe",
   "metadata": {},
   "outputs": [
    {
     "data": {
      "text/plain": [
       "str"
      ]
     },
     "execution_count": 25,
     "metadata": {},
     "output_type": "execute_result"
    }
   ],
   "source": [
    "type(a)"
   ]
  },
  {
   "cell_type": "code",
   "execution_count": 26,
   "id": "75addd48-4c63-4bc8-8f81-641d5f16aec9",
   "metadata": {},
   "outputs": [
    {
     "data": {
      "text/plain": [
       "True"
      ]
     },
     "execution_count": 26,
     "metadata": {},
     "output_type": "execute_result"
    }
   ],
   "source": [
    "bool(2)"
   ]
  },
  {
   "cell_type": "code",
   "execution_count": 27,
   "id": "f7f64630-4644-48fa-a0de-b208f65fbb96",
   "metadata": {},
   "outputs": [
    {
     "data": {
      "text/plain": [
       "True"
      ]
     },
     "execution_count": 27,
     "metadata": {},
     "output_type": "execute_result"
    }
   ],
   "source": [
    "bool(-1)"
   ]
  },
  {
   "cell_type": "code",
   "execution_count": 28,
   "id": "f112dd85-2135-4f63-88ce-ed2865a2c364",
   "metadata": {},
   "outputs": [],
   "source": [
    "type = bool(-2)"
   ]
  },
  {
   "cell_type": "code",
   "execution_count": null,
   "id": "b7e389e0-11bf-4473-9ee9-6490e2db6303",
   "metadata": {},
   "outputs": [],
   "source": []
  }
 ],
 "metadata": {
  "kernelspec": {
   "display_name": "Python 3 (ipykernel)",
   "language": "python",
   "name": "python3"
  },
  "language_info": {
   "codemirror_mode": {
    "name": "ipython",
    "version": 3
   },
   "file_extension": ".py",
   "mimetype": "text/x-python",
   "name": "python",
   "nbconvert_exporter": "python",
   "pygments_lexer": "ipython3",
   "version": "3.10.8"
  }
 },
 "nbformat": 4,
 "nbformat_minor": 5
}
